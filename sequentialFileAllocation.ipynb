{
 "cells": [
  {
   "cell_type": "code",
   "execution_count": 14,
   "metadata": {},
   "outputs": [
    {
     "name": "stdout",
     "output_type": "stream",
     "text": [
      "Enter memory size: 50\n",
      "[0, 0, 0, 0, 0, 0, 0, 0, 0, 0, 0, 0, 0, 0, 0, 0, 0, 0, 0, 0, 0, 0, 0, 0, 0, 0, 0, 0, 0, 0, 0, 0, 0, 0, 0, 0, 0, 0, 0, 0, 0, 0, 0, 0, 0, 0, 0, 0, 0, 0]\n"
     ]
    }
   ],
   "source": [
    "n = int(input(\"Enter memory size: \"))\n",
    "mem = [0] * n\n",
    "print(mem)"
   ]
  },
  {
   "cell_type": "code",
   "execution_count": 15,
   "metadata": {},
   "outputs": [],
   "source": [
    "def printmem(m,n):\n",
    "    print(str(m)+\"\\t\"+str(n))\n"
   ]
  },
  {
   "cell_type": "code",
   "execution_count": 16,
   "metadata": {},
   "outputs": [],
   "source": [
    "def pt(m):\n",
    "    print(m)"
   ]
  },
  {
   "cell_type": "code",
   "execution_count": 17,
   "metadata": {
    "scrolled": true
   },
   "outputs": [
    {
     "name": "stdout",
     "output_type": "stream",
     "text": [
      "Enter starting block and length: 0 3\n",
      "0\t1\n",
      "1\t1\n",
      "2\t1\n",
      "File successfully allocated.. \n",
      "Do you want to enter more file(Yes - 1/No - 0)1\n",
      "Enter starting block and length: 1 5\n",
      "File cannot be allocated...\n",
      "Do you want to enter more file(Yes - 1/No - 0)1\n",
      "Enter starting block and length: 6 5\n",
      "6\t1\n",
      "7\t1\n",
      "8\t1\n",
      "9\t1\n",
      "10\t1\n",
      "File successfully allocated.. \n",
      "Do you want to enter more file(Yes - 1/No - 0)0\n",
      "[1, 1, 1, 0, 0, 0, 1, 1, 1, 1, 1, 0, 0, 0, 0, 0, 0, 0, 0, 0, 0, 0, 0, 0, 0, 0, 0, 0, 0, 0, 0, 0, 0, 0, 0, 0, 0, 0, 0, 0, 0, 0, 0, 0, 0, 0, 0, 0, 0, 0]\n"
     ]
    }
   ],
   "source": [
    "ch=1\n",
    "while(ch == 1):\n",
    "    bk,l = map(int, input(\"Enter starting block and length: \").split())\n",
    "    count = 0\n",
    "    for k in range(bk, bk+l):\n",
    "        if(mem[k]==0):\n",
    "            count = count+1\n",
    "        #end if\n",
    "    #end for\n",
    "    if(count == l):\n",
    "        for k in range(bk, bk+l):\n",
    "            if(mem[k]==0):\n",
    "                mem[k]=1\n",
    "                printmem(k, mem[k])\n",
    "            #end if\n",
    "            if(k == (bk+l-1)):\n",
    "                print(\"File successfully allocated.. \")\n",
    "        #end for\n",
    "    else:\n",
    "        print(\"File cannot be allocated...\")\n",
    "    #end if\n",
    "    ch=int(input(\"Do you want to enter more file(Yes - 1/No - 0)\"))\n",
    "#end while\n",
    "pt(mem)\n",
    "        "
   ]
  },
  {
   "cell_type": "code",
   "execution_count": null,
   "metadata": {},
   "outputs": [],
   "source": []
  }
 ],
 "metadata": {
  "kernelspec": {
   "display_name": "Python 3",
   "language": "python",
   "name": "python3"
  },
  "language_info": {
   "codemirror_mode": {
    "name": "ipython",
    "version": 3
   },
   "file_extension": ".py",
   "mimetype": "text/x-python",
   "name": "python",
   "nbconvert_exporter": "python",
   "pygments_lexer": "ipython3",
   "version": "3.6.5"
  }
 },
 "nbformat": 4,
 "nbformat_minor": 2
}
